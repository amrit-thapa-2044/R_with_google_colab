{
  "nbformat": 4,
  "nbformat_minor": 0,
  "metadata": {
    "colab": {
      "name": "R_from_google_colab.R",
      "provenance": [],
      "collapsed_sections": [],
      "include_colab_link": true
    },
    "kernelspec": {
      "name": "ir",
      "display_name": "R"
    },
    "language_info": {
      "name": "R"
    }
  },
  "cells": [
    {
      "cell_type": "markdown",
      "metadata": {
        "id": "view-in-github",
        "colab_type": "text"
      },
      "source": [
        "<a href=\"https://colab.research.google.com/github/amrit-thapa-2044/R_with_google_colab/blob/main/R_from_google_colab_R.ipynb\" target=\"_parent\"><img src=\"https://colab.research.google.com/assets/colab-badge.svg\" alt=\"Open In Colab\"/></a>"
      ]
    },
    {
      "cell_type": "code",
      "execution_count": null,
      "metadata": {
        "id": "KPD7vir3JqAx"
      },
      "outputs": [],
      "source": [
        "rm(list=ls())"
      ]
    },
    {
      "cell_type": "code",
      "source": [
        "#print(installed.packages())"
      ],
      "metadata": {
        "id": "Vy4Eg7jhKQ-W"
      },
      "execution_count": null,
      "outputs": []
    },
    {
      "cell_type": "code",
      "source": [
        "# get working directory\n",
        "getwd()"
      ],
      "metadata": {
        "id": "ccDnXgV5fUoX"
      },
      "execution_count": null,
      "outputs": []
    },
    {
      "cell_type": "code",
      "source": [
        "## First specify the packages of interest\n",
        "packages = c(\"raster\", \"rgdal\")\n",
        "\n",
        "## Now load or install&load all\n",
        "package.check <- lapply(\n",
        "  packages,\n",
        "  FUN = function(x) {\n",
        "    if (!require(x, character.only = TRUE)) {\n",
        "      install.packages(x, dependencies = TRUE)\n",
        "      library(x, character.only = TRUE)\n",
        "    }\n",
        "  }\n",
        ")\n",
        "\n",
        "library(raster)"
      ],
      "metadata": {
        "id": "B8rJqn9iK9br"
      },
      "execution_count": null,
      "outputs": []
    },
    {
      "cell_type": "code",
      "source": [
        "r=getData('SRTM', lon=85, lat=28)\n",
        "plot(r)\n",
        "\n",
        "print(r)"
      ],
      "metadata": {
        "id": "fKGKqLHpfuDD"
      },
      "execution_count": null,
      "outputs": []
    },
    {
      "cell_type": "code",
      "source": [
        "maxValue(r)\n",
        "r=setMinMax(r)\n",
        "print(r)\n",
        "maxValue(r)"
      ],
      "metadata": {
        "id": "AP0xVBI_X5ok"
      },
      "execution_count": null,
      "outputs": []
    },
    {
      "cell_type": "code",
      "source": [
        "my_boundary=shapefile('/content/my_boundary/Ward_Panauti84.shp')\n",
        "plot(my_boundary,axes=T)"
      ],
      "metadata": {
        "id": "fDdFRFfdaH9P"
      },
      "execution_count": null,
      "outputs": []
    },
    {
      "cell_type": "code",
      "source": [
        "DEM_panauti=crop(r,my_boundary)\n",
        "plot(DEM_panauti)\n",
        "plot(my_boundary,add=T)"
      ],
      "metadata": {
        "id": "UHJ3TSxJala-"
      },
      "execution_count": null,
      "outputs": []
    },
    {
      "cell_type": "code",
      "source": [
        "DEM_panauti_masked=mask(DEM_panauti,my_boundary)\n",
        "plot(DEM_panauti_masked)\n",
        "plot(my_boundary,add=T)"
      ],
      "metadata": {
        "id": "rLQUfOB4bDvX"
      },
      "execution_count": null,
      "outputs": []
    }
  ]
}